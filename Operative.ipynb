{
 "cells": [
  {
   "cell_type": "markdown",
   "id": "19bcc36d",
   "metadata": {},
   "source": [
    "#### Get text from board screenshot"
   ]
  },
  {
   "cell_type": "code",
   "execution_count": 1,
   "id": "2607d0a9",
   "metadata": {},
   "outputs": [
    {
     "name": "stderr",
     "output_type": "stream",
     "text": [
      "c:\\Users\\vijay\\vscode  projects\\Codenames optimizer\\.venv\\Lib\\site-packages\\tqdm\\auto.py:21: TqdmWarning: IProgress not found. Please update jupyter and ipywidgets. See https://ipywidgets.readthedocs.io/en/stable/user_install.html\n",
      "  from .autonotebook import tqdm as notebook_tqdm\n"
     ]
    }
   ],
   "source": [
    "import easyocr\n",
    "from PIL import Image\n",
    "import numpy as np\n",
    "\n",
    "from spellchecker import SpellChecker\n",
    "\n",
    "#import Libraries\n",
    "from sentence_transformers import SentenceTransformer\n",
    "import numpy as np\n",
    "from unidecode import unidecode"
   ]
  },
  {
   "cell_type": "code",
   "execution_count": 2,
   "id": "f8a98e7e",
   "metadata": {},
   "outputs": [],
   "source": [
    "# Take screenshot\n",
    "img = Image.open(\"sc_8.png\")\n",
    "img_arr = np.array(img)"
   ]
  },
  {
   "cell_type": "code",
   "execution_count": 3,
   "id": "66dad112",
   "metadata": {},
   "outputs": [
    {
     "name": "stderr",
     "output_type": "stream",
     "text": [
      "Neither CUDA nor MPS are available - defaulting to CPU. Note: This module is much faster with a GPU.\n",
      "c:\\Users\\vijay\\vscode  projects\\Codenames optimizer\\.venv\\Lib\\site-packages\\torch\\utils\\data\\dataloader.py:666: UserWarning: 'pin_memory' argument is set as true but no accelerator is found, then device pinned memory won't be used.\n",
      "  warnings.warn(warn_msg)\n"
     ]
    }
   ],
   "source": [
    "# OCR\n",
    "reader = easyocr.Reader(['en'])\n",
    "results = reader.readtext(img_arr)"
   ]
  },
  {
   "cell_type": "code",
   "execution_count": 4,
   "id": "3ae72a36",
   "metadata": {},
   "outputs": [
    {
     "data": {
      "text/plain": [
       "['UNIFORM',\n",
       " 'EGYPT',\n",
       " 'BOOM',\n",
       " 'ANTARCTICA',\n",
       " 'DANCE',\n",
       " 'WEB',\n",
       " 'AUSTRALIA',\n",
       " 'HITCHHIKER',\n",
       " 'CIRCLE',\n",
       " 'BLACKBERRY',\n",
       " 'BAND',\n",
       " 'SUIT',\n",
       " 'CLOAK',\n",
       " 'CZECH',\n",
       " 'GLASS',\n",
       " 'ROCK',\n",
       " 'HURRICANE',\n",
       " 'HONEY',\n",
       " 'DECK',\n",
       " 'HARBOR',\n",
       " 'PISTOL',\n",
       " 'VIOLIN',\n",
       " 'MOLE',\n",
       " 'PASS',\n",
       " 'CALF']"
      ]
     },
     "execution_count": 4,
     "metadata": {},
     "output_type": "execute_result"
    }
   ],
   "source": [
    "#fix the text from easyocr\n",
    "board_0_fix = [i.replace(\"0\",\"O\") for _,i,_ in results]\n",
    "\n",
    "spell = SpellChecker()\n",
    "\n",
    "board = [spell.correction(w).upper() for w in board_0_fix]\n",
    "board"
   ]
  },
  {
   "cell_type": "code",
   "execution_count": 5,
   "id": "ef99a86d",
   "metadata": {},
   "outputs": [],
   "source": [
    "#test getting word embeddings\n",
    "model = SentenceTransformer(\"sentence-transformers/all-MiniLM-L6-v2\")"
   ]
  },
  {
   "cell_type": "code",
   "execution_count": 6,
   "id": "5ef02a26",
   "metadata": {},
   "outputs": [],
   "source": [
    "#helpful functions\n",
    "def norm(x):\n",
    "    x = x / (np.linalg.norm(x, axis=1, keepdims=True) + 1e-9)\n",
    "    return x\n",
    "def embed(words):\n",
    "    w = [unidecode(w.lower().replace(\"_\",\" \").strip()) for w in words]\n",
    "    v = model.encode(w, normalize_embeddings=True)\n",
    "    return w, v"
   ]
  },
  {
   "cell_type": "code",
   "execution_count": 7,
   "id": "1bf2570f",
   "metadata": {},
   "outputs": [],
   "source": [
    "#get board word embeddings\n",
    "_,board_embeddings = embed(board)\n"
   ]
  },
  {
   "cell_type": "code",
   "execution_count": 8,
   "id": "0a2846ae",
   "metadata": {},
   "outputs": [],
   "source": [
    "def get_choices_from_hint(hint,k=25):\n",
    "    hint_embedding = model.encode(hint, normalize_embeddings=True).reshape(1,-1)\n",
    "    sims = (board_embeddings @ hint_embedding.T).ravel()\n",
    "    return [(board[i], float(sims[i])) for i in np.argsort(-sims)][:k]"
   ]
  },
  {
   "cell_type": "markdown",
   "id": "3e49bcac",
   "metadata": {},
   "source": [
    "#### Use the Hint and Number to get the words to choose"
   ]
  },
  {
   "cell_type": "code",
   "execution_count": 16,
   "id": "c66d7684",
   "metadata": {},
   "outputs": [
    {
     "data": {
      "text/plain": [
       "[('DECK', 0.4809088706970215),\n",
       " ('CLOAK', 0.40676310658454895),\n",
       " ('WEB', 0.3379850387573242),\n",
       " ('SUIT', 0.31046438217163086),\n",
       " ('BAND', 0.30157557129859924),\n",
       " ('DANCE', 0.2906075716018677)]"
      ]
     },
     "execution_count": 16,
     "metadata": {},
     "output_type": "execute_result"
    }
   ],
   "source": [
    "get_choices_from_hint(\"scrolls\",6)"
   ]
  }
 ],
 "metadata": {
  "kernelspec": {
   "display_name": ".venv",
   "language": "python",
   "name": "python3"
  },
  "language_info": {
   "codemirror_mode": {
    "name": "ipython",
    "version": 3
   },
   "file_extension": ".py",
   "mimetype": "text/x-python",
   "name": "python",
   "nbconvert_exporter": "python",
   "pygments_lexer": "ipython3",
   "version": "3.12.0"
  }
 },
 "nbformat": 4,
 "nbformat_minor": 5
}
