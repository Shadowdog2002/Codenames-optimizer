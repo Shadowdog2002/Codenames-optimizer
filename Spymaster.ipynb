{
 "cells": [
  {
   "cell_type": "markdown",
   "id": "a3c82cd9",
   "metadata": {},
   "source": [
    "#### Get text from board screenshot"
   ]
  },
  {
   "cell_type": "code",
   "execution_count": 38,
   "id": "0aec19d8",
   "metadata": {},
   "outputs": [],
   "source": [
    "import easyocr\n",
    "from PIL import Image, ImageFilter\n",
    "import numpy as np"
   ]
  },
  {
   "cell_type": "code",
   "execution_count": 39,
   "id": "739aca7e",
   "metadata": {},
   "outputs": [],
   "source": [
    "#Set team color and sc file name\n",
    "team_color=\"R\"\n",
    "sc_file_name = \"sc_7.png\""
   ]
  },
  {
   "cell_type": "code",
   "execution_count": 40,
   "id": "14c1b804",
   "metadata": {},
   "outputs": [],
   "source": [
    "# opens screenshot\n",
    "img = Image.open(sc_file_name)\n",
    "img_arr = np.array(img)"
   ]
  },
  {
   "cell_type": "code",
   "execution_count": 41,
   "id": "3996ad07",
   "metadata": {},
   "outputs": [
    {
     "name": "stderr",
     "output_type": "stream",
     "text": [
      "Neither CUDA nor MPS are available - defaulting to CPU. Note: This module is much faster with a GPU.\n",
      "c:\\Users\\vijay\\vscode  projects\\Codenames optimizer\\.venv\\Lib\\site-packages\\torch\\utils\\data\\dataloader.py:666: UserWarning: 'pin_memory' argument is set as true but no accelerator is found, then device pinned memory won't be used.\n",
      "  warnings.warn(warn_msg)\n"
     ]
    }
   ],
   "source": [
    "# OCR\n",
    "reader = easyocr.Reader(['en'])\n",
    "results = reader.readtext(img_arr)"
   ]
  },
  {
   "cell_type": "code",
   "execution_count": 42,
   "id": "7b8d64f7",
   "metadata": {},
   "outputs": [
    {
     "data": {
      "text/plain": [
       "['CONDUCTOR',\n",
       " 'COURT',\n",
       " 'QUEEN',\n",
       " 'CLIFF',\n",
       " 'RING',\n",
       " 'CONTRACT',\n",
       " 'ENGINE',\n",
       " 'CHANGE',\n",
       " 'DOCTOR',\n",
       " 'CAT',\n",
       " 'BILL',\n",
       " 'STREAM',\n",
       " 'KITE',\n",
       " 'COCONUT',\n",
       " 'CAP',\n",
       " 'COLD',\n",
       " 'RAY',\n",
       " 'HITCHHIKER',\n",
       " 'BOOM',\n",
       " 'MARBLE',\n",
       " 'SEED',\n",
       " 'AGENT',\n",
       " 'ZEBRA',\n",
       " 'FRANCE',\n",
       " 'PITCH']"
      ]
     },
     "execution_count": 42,
     "metadata": {},
     "output_type": "execute_result"
    }
   ],
   "source": [
    "#fix the text from easyocr\n",
    "board_0_fix = [i.replace(\"0\",\"O\") for _,i,_ in results]\n",
    "\n",
    "from spellchecker import SpellChecker\n",
    "\n",
    "spell = SpellChecker()\n",
    "\n",
    "board = [spell.correction(w).upper() for w in board_0_fix]\n",
    "board"
   ]
  },
  {
   "cell_type": "code",
   "execution_count": 43,
   "id": "c728eeb1",
   "metadata": {},
   "outputs": [],
   "source": [
    "#get good word list\n",
    "img = img.convert('RGB')\n",
    "l,w = img.size\n",
    "l_unit = l//5\n",
    "w_unit = w//5\n",
    "#get array of square images in board\n",
    "def get_sqr(x,y,img):\n",
    "    return img.crop((x*l_unit,y*w_unit,(x+1)*l_unit,(y+1)*w_unit))\n",
    "sqrs: list[Image.Image] = []\n",
    "for i in range(25):\n",
    "    sqrs.append(get_sqr(i%5,i//5,img))\n",
    "sqrs_colors = []\n",
    "\n",
    "for sqr in sqrs:\n",
    "    #get dominant color\n",
    "    if len(reader.readtext(np.array(sqr)))==0:\n",
    "        continue\n",
    "    r,g,b = np.array(sqr).mean(axis=(0,1))\n",
    "    if r-b>100:\n",
    "        sqrs_colors.append(\"R\")\n",
    "    elif b-r>100:\n",
    "        sqrs_colors.append(\"B\")\n",
    "    elif abs(r-b)<10:\n",
    "        sqrs_colors.append(\"F\")\n",
    "    else:\n",
    "        sqrs_colors.append(\"W\")\n"
   ]
  },
  {
   "cell_type": "code",
   "execution_count": 44,
   "id": "8547307d",
   "metadata": {},
   "outputs": [
    {
     "data": {
      "text/plain": [
       "(['CHANGE', 'CAT', 'KITE', 'COCONUT', 'COLD', 'BOOM', 'MARBLE', 'PITCH'],\n",
       " ['ENGINE',\n",
       "  'DOCTOR',\n",
       "  'CLIFF',\n",
       "  'QUEEN',\n",
       "  'CONTRACT',\n",
       "  'HITCHHIKER',\n",
       "  'RING',\n",
       "  'ZEBRA',\n",
       "  'BILL',\n",
       "  'COURT',\n",
       "  'SEED',\n",
       "  'CONDUCTOR',\n",
       "  'FRANCE',\n",
       "  'AGENT',\n",
       "  'CAP',\n",
       "  'RAY',\n",
       "  'STREAM'])"
      ]
     },
     "execution_count": 44,
     "metadata": {},
     "output_type": "execute_result"
    }
   ],
   "source": [
    "#get good word list\n",
    "good_words = []\n",
    "for i in range(len(board)):\n",
    "    if sqrs_colors[i]==team_color:\n",
    "        good_words.append(board[i])\n",
    "good_words\n",
    "\n",
    "#get bad word list\n",
    "bad_words = list(set(board)-set(good_words))\n",
    "good_words, bad_words"
   ]
  },
  {
   "cell_type": "markdown",
   "id": "a40992dc",
   "metadata": {},
   "source": [
    "#### get word embeddings for each word in board"
   ]
  },
  {
   "cell_type": "code",
   "execution_count": 45,
   "id": "828ed9a5",
   "metadata": {},
   "outputs": [],
   "source": [
    "#import Libraries\n",
    "from sentence_transformers import SentenceTransformer\n",
    "import numpy as np\n",
    "from unidecode import unidecode"
   ]
  },
  {
   "cell_type": "code",
   "execution_count": 46,
   "id": "8d44bd6e",
   "metadata": {},
   "outputs": [],
   "source": [
    "#test getting word embeddings\n",
    "model = SentenceTransformer(\"sentence-transformers/all-MiniLM-L6-v2\")"
   ]
  },
  {
   "cell_type": "code",
   "execution_count": 47,
   "id": "b4ef5985",
   "metadata": {},
   "outputs": [],
   "source": [
    "#helpful functions\n",
    "def norm(x):\n",
    "    x = x / (np.linalg.norm(x, axis=1, keepdims=True) + 1e-9)\n",
    "    return x\n",
    "def embed(words):\n",
    "    w = [unidecode(w.lower().replace(\"_\",\" \").strip()) for w in words]\n",
    "    v = model.encode(w, normalize_embeddings=True)\n",
    "    return w, v"
   ]
  },
  {
   "cell_type": "code",
   "execution_count": 48,
   "id": "66da109b",
   "metadata": {},
   "outputs": [],
   "source": [
    "#get top 50k words for our hint vocab\n",
    "i = 0\n",
    "vocab = set()\n",
    "with open(\"google-10000-english-usa.txt\") as f:\n",
    "    for line in f:\n",
    "        if line.strip().isalpha():\n",
    "            vocab.add(line.strip().lower())\n",
    "        i+=1\n",
    "        if i>=70000:\n",
    "            break\n",
    "vocab = [unidecode(w.lower().replace(\"_\",\" \").strip()) for w in vocab]\n",
    "vocab = set(vocab)\n",
    "\n"
   ]
  },
  {
   "cell_type": "code",
   "execution_count": null,
   "id": "c28d2ef3",
   "metadata": {},
   "outputs": [],
   "source": [
    "#save or load vocab embeddings\n",
    "import pickle\n",
    "\n",
    "def save_vocab_embeddings(fname):\n",
    "    filename = fname\n",
    "    vocab_obj = embed(vocab)\n",
    "    with open(filename, 'wb') as file:\n",
    "        # Use pickle.dump() to write the list to the file\n",
    "        pickle.dump(vocab_obj, file)\n",
    "        \n",
    "def load_vocab_embeddings(fname):\n",
    "    filename = fname\n",
    "    with open(filename, 'rb') as file:\n",
    "        # Use pickle.load() to read the list from the file\n",
    "        vocab_obj = pickle.load(file)\n",
    "    return vocab_obj\n",
    "#save_vocab_embeddings(\"google_word_embeddings.pkl\")"
   ]
  },
  {
   "cell_type": "code",
   "execution_count": 57,
   "id": "35846383",
   "metadata": {},
   "outputs": [],
   "source": [
    "#get board, good, bad and vocab word embeddings\n",
    "_,board_embeddings = embed(board)\n",
    "_,good_words_embeddings = embed(good_words)\n",
    "_,bad_words_embeddings = embed(bad_words)\n",
    "#vocab,vocab_embeddings = load_vocab_embeddings(\"google_word_embeddings.pkl\")\n",
    "vocab,vocab_embeddings = load_vocab_embeddings(\"vocab_embeddings.pkl\")"
   ]
  },
  {
   "cell_type": "code",
   "execution_count": 58,
   "id": "755ca739",
   "metadata": {},
   "outputs": [
    {
     "name": "stdout",
     "output_type": "stream",
     "text": [
      "Removed:  23\n"
     ]
    }
   ],
   "source": [
    "#remove board words from vocab\n",
    "mask = ~np.isin(vocab,[i.lower() for i in board])\n",
    "print(\"Removed: \",len(vocab)-mask.sum())\n",
    "vocab = np.array(vocab)[mask].tolist()\n",
    "vocab_embeddings = vocab_embeddings[mask]"
   ]
  },
  {
   "cell_type": "code",
   "execution_count": 59,
   "id": "12fd7f83",
   "metadata": {},
   "outputs": [
    {
     "data": {
      "text/plain": [
       "array([[-1.51653392e-02,  6.27794340e-02, -2.53230166e-02,\n",
       "         4.27070484e-02, -6.24649860e-02, -1.45067926e-02,\n",
       "         1.30562037e-01,  2.05520671e-02,  2.68272925e-02,\n",
       "        -1.34205469e-03,  3.12098060e-02, -9.87825319e-02,\n",
       "        -4.05647084e-02,  1.38952620e-02,  2.30840724e-02,\n",
       "         2.05444749e-02, -1.59344214e-04, -8.40741023e-03,\n",
       "        -1.04819022e-01, -2.03982908e-02, -4.22155634e-02,\n",
       "         1.11057512e-01, -1.98554602e-02,  3.59184816e-02,\n",
       "        -2.18729880e-02,  6.54373765e-02, -3.64763476e-02,\n",
       "         3.90573815e-02, -7.71450810e-03, -1.37572646e-01,\n",
       "        -7.12372269e-03,  5.58719300e-02,  3.33362557e-02,\n",
       "         2.01537227e-03, -6.47518560e-02, -1.47552323e-02,\n",
       "        -1.71499234e-02,  1.34375738e-02,  5.74421212e-02,\n",
       "         4.07887623e-03, -1.45846955e-03, -8.65355358e-02,\n",
       "         3.48013081e-02,  2.64546387e-02,  2.61521731e-02,\n",
       "         4.41160426e-02,  2.62327902e-02,  3.14460881e-02,\n",
       "         7.50530809e-02,  7.48924259e-03, -8.92616361e-02,\n",
       "        -3.60080600e-03, -7.51136988e-02, -1.22844093e-02,\n",
       "         3.70446779e-02,  3.15535963e-02,  4.05941941e-02,\n",
       "         5.37773501e-03,  3.72410119e-02, -2.28431039e-02,\n",
       "         2.73517221e-02,  2.54384577e-02, -4.67729159e-02,\n",
       "         6.09214939e-02,  1.77488774e-02, -3.35395224e-02,\n",
       "        -4.28650081e-02,  2.66808141e-02,  8.56763497e-03,\n",
       "        -2.74551325e-02,  3.82814021e-03,  4.91475798e-02,\n",
       "         6.95595937e-03,  5.87180909e-03,  3.13895270e-02,\n",
       "        -3.13191563e-02,  6.69631809e-02, -6.68135509e-02,\n",
       "         5.61544113e-02,  3.13948132e-02, -1.43977422e-02,\n",
       "        -3.41015607e-02, -9.27279741e-02,  3.53988446e-03,\n",
       "        -1.22474916e-02,  1.44615201e-02,  4.42378893e-02,\n",
       "         2.74280347e-02, -6.08832575e-02, -1.12608746e-02,\n",
       "        -3.83531153e-02, -3.92699707e-03,  4.48279716e-02,\n",
       "         2.30560619e-02, -1.53699279e-01,  4.10959609e-02,\n",
       "        -1.34243369e-02, -7.77568519e-02, -9.26408172e-02,\n",
       "         3.78975600e-01,  9.62291472e-03,  4.00653854e-02,\n",
       "         2.72176377e-02,  4.27087247e-02, -1.37359733e-02,\n",
       "        -4.06381488e-02, -1.20489057e-02,  1.04160691e-02,\n",
       "         2.90598832e-02, -1.13538215e-02, -2.45118421e-02,\n",
       "        -1.45383468e-02, -8.97896066e-02,  2.08336338e-02,\n",
       "        -3.32041783e-03,  6.07745955e-03, -1.26241576e-02,\n",
       "         1.75327342e-02,  1.03609031e-02,  5.96369524e-03,\n",
       "         2.54709460e-02,  1.93630587e-02, -6.73055323e-03,\n",
       "         3.52741852e-02, -9.73707661e-02, -8.45014378e-02,\n",
       "        -3.37097757e-02, -6.90795933e-33,  2.12635566e-02,\n",
       "        -6.09056093e-02,  8.53108689e-02,  5.31829111e-02,\n",
       "         7.35920146e-02,  1.42263593e-02, -1.97747368e-02,\n",
       "         1.93735730e-04, -3.34846377e-02,  5.78002110e-02,\n",
       "        -1.11962399e-02,  1.89525611e-03, -6.45899475e-02,\n",
       "         1.06446315e-02,  1.33185506e-01, -2.90607642e-02,\n",
       "        -3.63181606e-02,  1.96873993e-02, -4.25137691e-02,\n",
       "         1.56571269e-02, -9.52356830e-02,  7.67708942e-02,\n",
       "         1.08632073e-02,  5.72889261e-02, -4.04819325e-02,\n",
       "        -1.92731805e-02,  1.75403468e-02, -1.05181925e-01,\n",
       "         1.09309535e-02,  2.32564900e-02,  3.40710096e-02,\n",
       "         2.64486938e-04, -1.62521321e-02,  1.01828557e-02,\n",
       "        -4.42618132e-02, -8.69193822e-02, -5.84540553e-02,\n",
       "        -7.33654127e-02,  1.05571803e-02, -2.24279910e-02,\n",
       "        -2.35910043e-02, -2.24531293e-02, -7.18987733e-03,\n",
       "         3.93884964e-02,  1.77632347e-02,  1.82635000e-03,\n",
       "         6.48149699e-02,  5.79249226e-02, -4.02775221e-02,\n",
       "         2.70516090e-02,  6.56121746e-02, -2.53983424e-03,\n",
       "        -3.06949578e-02,  1.50996856e-02,  7.63197523e-03,\n",
       "        -6.19434416e-02,  4.01035585e-02,  2.34139897e-03,\n",
       "        -1.96325257e-02,  2.81425323e-02,  4.63037044e-02,\n",
       "         3.77696864e-02,  9.61755961e-03,  1.93667188e-02,\n",
       "        -1.74120329e-02, -7.41622085e-03,  4.09235284e-02,\n",
       "        -1.58953909e-02,  5.35101630e-02, -2.85964124e-02,\n",
       "        -7.82140195e-02, -9.96033661e-03,  8.44149441e-02,\n",
       "        -2.69867334e-04, -6.84550628e-02, -4.13512960e-02,\n",
       "         1.47064198e-02,  4.58012708e-02,  7.82476738e-04,\n",
       "        -3.11878994e-02, -2.98730060e-02,  2.19279882e-02,\n",
       "         2.78662541e-04,  5.02356561e-03,  8.25025607e-03,\n",
       "         7.37877116e-02, -3.39897983e-02, -6.61399141e-02,\n",
       "         3.97665799e-03,  2.67309230e-02, -1.29596144e-01,\n",
       "         1.34469289e-02,  7.92813748e-02, -2.33220030e-02,\n",
       "        -1.73753742e-02,  5.28761530e-33, -4.83462848e-02,\n",
       "        -2.97488421e-02, -5.62755093e-02,  1.17879964e-01,\n",
       "         1.92335714e-02,  1.23140793e-02,  7.12410286e-02,\n",
       "         4.14477400e-02, -4.47328128e-02,  2.09863111e-02,\n",
       "        -5.12951910e-02, -6.88428357e-02,  9.23819020e-02,\n",
       "         2.18694471e-03,  7.91854262e-02,  6.99765012e-02,\n",
       "         5.70842400e-02,  2.41971202e-02, -8.04002490e-03,\n",
       "         5.22670187e-02, -5.66338599e-02, -9.29621607e-03,\n",
       "        -2.87809763e-02,  2.12912764e-02, -6.80193156e-02,\n",
       "         4.33969311e-02,  2.96248551e-02,  3.13607417e-02,\n",
       "        -2.36541983e-02, -5.46944849e-02,  1.94167551e-02,\n",
       "        -4.29203361e-02, -4.05117832e-02, -5.20547153e-03,\n",
       "        -3.15334313e-02,  1.16817646e-01,  2.20604185e-02,\n",
       "        -6.37517497e-02, -6.04411140e-02,  1.73147023e-02,\n",
       "         7.00438395e-02,  1.79864641e-03,  4.27506343e-02,\n",
       "         1.56911343e-01, -3.26804742e-02,  3.23849991e-02,\n",
       "        -1.11599062e-02,  2.40139756e-02,  2.86846496e-02,\n",
       "         4.20138538e-02, -8.17354470e-02, -2.03552134e-02,\n",
       "        -1.91349536e-02, -2.90532336e-02,  8.83221533e-03,\n",
       "         1.59066897e-02, -5.22205904e-02, -1.00716650e-02,\n",
       "         6.38681976e-03, -2.17332114e-02, -1.52554428e-02,\n",
       "         1.07212048e-02, -5.14345057e-02,  1.85435582e-02,\n",
       "        -1.72846224e-02,  5.96879125e-02, -4.06370051e-02,\n",
       "        -6.07528239e-02, -3.16575319e-02,  2.61325929e-02,\n",
       "         6.82758167e-02,  1.15005076e-02, -6.88450858e-02,\n",
       "        -2.87322458e-02, -6.05286434e-02,  1.64764933e-02,\n",
       "        -5.79445548e-02,  4.37998250e-02, -1.91863384e-02,\n",
       "        -4.81381379e-02, -4.63983454e-02, -3.01304329e-02,\n",
       "        -6.27988651e-02,  6.28081337e-02,  1.57073606e-03,\n",
       "        -3.31822261e-02,  6.94435611e-02,  1.34907626e-02,\n",
       "        -4.02875291e-03, -1.06671760e-02,  2.74766888e-02,\n",
       "         3.27783041e-02,  1.62242837e-02,  2.10846867e-02,\n",
       "         2.34306194e-02, -2.07815027e-08, -2.02675723e-02,\n",
       "         4.87024821e-02, -1.21584032e-02,  8.54018982e-03,\n",
       "         8.23136866e-02,  5.35517111e-02,  1.21515794e-02,\n",
       "        -2.97616329e-02,  4.73030005e-03,  9.05800087e-04,\n",
       "         3.55910184e-03,  4.46097888e-02,  7.30194971e-02,\n",
       "         8.57596397e-02,  6.89106733e-02, -3.53486538e-02,\n",
       "        -6.91025257e-02,  1.23994229e-02, -1.48464330e-02,\n",
       "         2.80108992e-02, -7.11154193e-02,  2.68080812e-02,\n",
       "        -1.12970825e-02,  3.50896120e-02, -5.22682071e-02,\n",
       "        -2.50060242e-02,  4.69772425e-03,  1.35252655e-01,\n",
       "         4.76686619e-02,  2.03900691e-02, -7.79869687e-03,\n",
       "         3.61872651e-02, -2.35136934e-02, -4.08923291e-02,\n",
       "        -4.54888232e-02, -3.53324860e-02, -2.07677623e-03,\n",
       "        -2.63370387e-02,  4.18612733e-02,  1.75421648e-02,\n",
       "        -2.52625290e-02,  3.80892716e-02, -3.58533598e-02,\n",
       "        -4.07855138e-02, -9.96692851e-02, -4.18843292e-02,\n",
       "         3.21626849e-02, -4.56007496e-02, -4.99196835e-02,\n",
       "        -2.32887492e-02,  3.20952991e-03,  8.65709409e-02,\n",
       "         6.64259642e-02,  5.95626086e-02,  7.63190389e-02,\n",
       "         4.00887616e-02, -1.93270051e-03,  5.72361983e-03,\n",
       "        -8.86872113e-02,  7.02413470e-02,  1.61386088e-01,\n",
       "        -3.28886025e-02,  1.74188763e-02,  1.74655020e-02]], dtype=float32)"
      ]
     },
     "execution_count": 59,
     "metadata": {},
     "output_type": "execute_result"
    }
   ],
   "source": [
    "#find centroid of good words\n",
    "centroid = good_words_embeddings.mean(axis=0,keepdims=True)\n",
    "centroid = norm(centroid)\n",
    "centroid"
   ]
  },
  {
   "cell_type": "code",
   "execution_count": 74,
   "id": "28996b90",
   "metadata": {},
   "outputs": [
    {
     "data": {
      "text/plain": [
       "[('dissimilarity', 0.07369671016931534),\n",
       " ('inconsistencies', 0.07282659411430359),\n",
       " ('cataclysm', 0.06765158474445343),\n",
       " ('shirked', 0.06709793210029602),\n",
       " ('indiscriminately', 0.06506812572479248),\n",
       " ('responsive', 0.06417123228311539),\n",
       " ('variability', 0.06280888617038727),\n",
       " ('fluttering', 0.06073378771543503),\n",
       " ('voluptuousness', 0.059847142547369),\n",
       " ('mildness', 0.05762895196676254),\n",
       " ('meanings', 0.05734650790691376),\n",
       " ('crunching', 0.05680336803197861),\n",
       " ('inflaming', 0.05256607383489609),\n",
       " ('disapprobation', 0.05091044306755066),\n",
       " ('fluctuation', 0.05034840852022171),\n",
       " ('figurative', 0.049643754959106445),\n",
       " ('dampness', 0.049103520810604095),\n",
       " ('upbraiding', 0.047848913818597794),\n",
       " ('deprecatingly', 0.04759148508310318),\n",
       " ('picnics', 0.04742325469851494),\n",
       " ('deviations', 0.04687386378645897),\n",
       " ('vagueness', 0.04569637030363083),\n",
       " ('indescribable', 0.04535086452960968),\n",
       " ('cope', 0.045253295451402664),\n",
       " ('trembling', 0.045196983963251114),\n",
       " ('misanthropy', 0.044733501970767975),\n",
       " ('indiscriminate', 0.044659294188022614),\n",
       " ('squinted', 0.04435841739177704),\n",
       " ('deviation', 0.04419868439435959),\n",
       " ('flung', 0.04402923583984375),\n",
       " ('descriptive', 0.04360881820321083),\n",
       " ('narrower', 0.043409429490566254),\n",
       " ('numerically', 0.04339279234409332),\n",
       " ('twisting', 0.043138086795806885),\n",
       " ('disintegrated', 0.04311583936214447),\n",
       " ('dislocated', 0.04254790395498276),\n",
       " ('dislocation', 0.041811488568782806),\n",
       " ('squealed', 0.04147511348128319),\n",
       " ('malays', 0.04136547073721886),\n",
       " ('planking', 0.04119133949279785),\n",
       " ('forsakes', 0.041033271700143814),\n",
       " ('sympathizing', 0.04070582985877991),\n",
       " ('benignity', 0.04049880430102348),\n",
       " ('handkerchiefs', 0.04031239077448845),\n",
       " ('inexplicable', 0.04017152637243271),\n",
       " ('hieroglyphics', 0.040115129202604294),\n",
       " ('tightening', 0.03997896611690521),\n",
       " ('unaccompanied', 0.03988230228424072),\n",
       " ('squinting', 0.03967847675085068),\n",
       " ('yoga', 0.03956767916679382)]"
      ]
     },
     "execution_count": 74,
     "metadata": {},
     "output_type": "execute_result"
    }
   ],
   "source": [
    "#Scoring similarity\n",
    " \n",
    "sim_good = vocab_embeddings @ good_words_embeddings.T                   # [V, |G|]\n",
    "sim_bad_max = vocab_embeddings @ bad_words_embeddings.T.max(axis=1)     # [V]\n",
    "sim_bad_mean = vocab_embeddings @ bad_words_embeddings.T.mean(axis=1)   # [V]\n",
    "\n",
    "lambda1, lambda2 = 1.0, 0.25\n",
    "score = sim_good.mean(axis=1) - lambda1*sim_bad_max - lambda2*sim_bad_mean\n",
    "\n",
    "idx = np.argsort(-score)[:50]\n",
    "candidates = [(vocab[i], float(score[i])) for i in idx]\n",
    "candidates\n",
    "\n"
   ]
  },
  {
   "cell_type": "code",
   "execution_count": 75,
   "id": "1888c485",
   "metadata": {},
   "outputs": [],
   "source": [
    "def score_choices_order(choices,good_words=good_words):\n",
    "    k = 0\n",
    "    for c,_ in choices:\n",
    "        if c in good_words:\n",
    "            k+=1\n",
    "        else:\n",
    "            break\n",
    "    return k\n",
    "def get_choices_from_hint(hint,k=25):\n",
    "    hint_embedding = model.encode(hint, normalize_embeddings=True).reshape(1,-1)\n",
    "    sims = (board_embeddings @ hint_embedding.T).ravel()\n",
    "    return [(board[i], float(sims[i])) for i in np.argsort(-sims)][:k]\n",
    "def score_candidates(candidates=candidates):\n",
    "    k_arr = []\n",
    "    for w,_ in candidates:\n",
    "        k_arr.append(score_choices_order(get_choices_from_hint(w)))\n",
    "    return k_arr\n",
    "\n"
   ]
  },
  {
   "cell_type": "code",
   "execution_count": 76,
   "id": "b737bd69",
   "metadata": {},
   "outputs": [
    {
     "data": {
      "text/plain": [
       "('fluttering', 5)"
      ]
     },
     "execution_count": 76,
     "metadata": {},
     "output_type": "execute_result"
    }
   ],
   "source": [
    "#pick best candidate\n",
    "def pick_best_candidate():\n",
    "    candidate_scores = score_candidates()\n",
    "    np.argmax(candidate_scores)\n",
    "    candidates[np.argmax(score_candidates())][0]\n",
    "    return candidates[np.argmax(score_candidates())][0],max(candidate_scores)\n",
    "# pick_best_candidate()\n",
    "pick_best_candidate()"
   ]
  },
  {
   "cell_type": "code",
   "execution_count": 77,
   "id": "3ff8bbe4",
   "metadata": {},
   "outputs": [
    {
     "data": {
      "text/plain": [
       "[('KITE', 0.42257681488990784),\n",
       " ('PITCH', 0.2883622646331787),\n",
       " ('CAT', 0.2805821895599365),\n",
       " ('COLD', 0.2404635101556778),\n",
       " ('BOOM', 0.23172815144062042),\n",
       " ('ZEBRA', 0.22945865988731384),\n",
       " ('STREAM', 0.22625955939292908),\n",
       " ('SEED', 0.22466379404067993),\n",
       " ('RING', 0.22420530021190643),\n",
       " ('QUEEN', 0.21881583333015442),\n",
       " ('ENGINE', 0.21773207187652588),\n",
       " ('COCONUT', 0.21378174424171448),\n",
       " ('MARBLE', 0.21198558807373047),\n",
       " ('CONTRACT', 0.1903490126132965),\n",
       " ('CHANGE', 0.18641580641269684),\n",
       " ('CLIFF', 0.1753355860710144),\n",
       " ('HITCHHIKER', 0.17176111042499542),\n",
       " ('CONDUCTOR', 0.16202419996261597),\n",
       " ('COURT', 0.16193248331546783),\n",
       " ('DOCTOR', 0.16114285588264465),\n",
       " ('RAY', 0.16012291610240936),\n",
       " ('BILL', 0.15813156962394714),\n",
       " ('FRANCE', 0.14022505283355713),\n",
       " ('AGENT', 0.137843057513237),\n",
       " ('CAP', 0.04342864453792572)]"
      ]
     },
     "execution_count": 77,
     "metadata": {},
     "output_type": "execute_result"
    }
   ],
   "source": [
    "#get choices from hint\n",
    "h,k = pick_best_candidate()\n",
    "get_choices_from_hint(h)\n",
    "\n"
   ]
  },
  {
   "cell_type": "code",
   "execution_count": null,
   "id": "dfc107e3",
   "metadata": {},
   "outputs": [],
   "source": []
  }
 ],
 "metadata": {
  "kernelspec": {
   "display_name": ".venv",
   "language": "python",
   "name": "python3"
  },
  "language_info": {
   "codemirror_mode": {
    "name": "ipython",
    "version": 3
   },
   "file_extension": ".py",
   "mimetype": "text/x-python",
   "name": "python",
   "nbconvert_exporter": "python",
   "pygments_lexer": "ipython3",
   "version": "3.12.0"
  }
 },
 "nbformat": 4,
 "nbformat_minor": 5
}
