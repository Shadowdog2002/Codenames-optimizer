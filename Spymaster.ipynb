{
 "cells": [
  {
   "cell_type": "markdown",
   "id": "a3c82cd9",
   "metadata": {},
   "source": [
    "#### Get text from board screenshot"
   ]
  },
  {
   "cell_type": "code",
   "execution_count": 49,
   "id": "0aec19d8",
   "metadata": {},
   "outputs": [],
   "source": [
    "import easyocr\n",
    "from PIL import Image, ImageFilter\n",
    "import numpy as np"
   ]
  },
  {
   "cell_type": "code",
   "execution_count": 50,
   "id": "739aca7e",
   "metadata": {},
   "outputs": [],
   "source": [
    "#Set team color and sc file name\n",
    "team_color=\"R\"\n",
    "sc_file_name = \"sc_9.png\""
   ]
  },
  {
   "cell_type": "code",
   "execution_count": 51,
   "id": "14c1b804",
   "metadata": {},
   "outputs": [],
   "source": [
    "# opens screenshot\n",
    "img = Image.open(sc_file_name)\n",
    "img_arr = np.array(img)"
   ]
  },
  {
   "cell_type": "code",
   "execution_count": 52,
   "id": "3996ad07",
   "metadata": {},
   "outputs": [
    {
     "name": "stderr",
     "output_type": "stream",
     "text": [
      "Neither CUDA nor MPS are available - defaulting to CPU. Note: This module is much faster with a GPU.\n"
     ]
    }
   ],
   "source": [
    "# OCR\n",
    "reader = easyocr.Reader(['en'])\n",
    "results = reader.readtext(img_arr)"
   ]
  },
  {
   "cell_type": "code",
   "execution_count": 53,
   "id": "7b8d64f7",
   "metadata": {},
   "outputs": [
    {
     "data": {
      "text/plain": [
       "['UNIFORM',\n",
       " 'EGYPT',\n",
       " 'BOOM',\n",
       " 'ANTARCTICA',\n",
       " 'AUSTRALIA',\n",
       " 'HITCHHIKER',\n",
       " 'CIRCLE',\n",
       " 'BLACKBERRY',\n",
       " 'CZECH',\n",
       " 'GLASS',\n",
       " 'ROCK',\n",
       " 'HURRICANE',\n",
       " 'HONEY',\n",
       " 'HARBOR',\n",
       " 'PISTOL',\n",
       " 'VIOLIN',\n",
       " 'MOLE',\n",
       " 'PASS',\n",
       " 'CALF']"
      ]
     },
     "execution_count": 53,
     "metadata": {},
     "output_type": "execute_result"
    }
   ],
   "source": [
    "#fix the text from easyocr\n",
    "board_0_fix = [i.replace(\"0\",\"O\") for _,i,_ in results]\n",
    "\n",
    "from spellchecker import SpellChecker\n",
    "\n",
    "spell = SpellChecker()\n",
    "\n",
    "board = [spell.correction(w).upper() for w in board_0_fix]\n",
    "board"
   ]
  },
  {
   "cell_type": "code",
   "execution_count": 54,
   "id": "c728eeb1",
   "metadata": {},
   "outputs": [],
   "source": [
    "#get good word list\n",
    "img = img.convert('RGB')\n",
    "l,w = img.size\n",
    "l_unit = l//5\n",
    "w_unit = w//5\n",
    "#get array of square images in board\n",
    "def get_sqr(x,y,img):\n",
    "    return img.crop((x*l_unit,y*w_unit,(x+1)*l_unit,(y+1)*w_unit))\n",
    "sqrs: list[Image.Image] = []\n",
    "for i in range(25):\n",
    "    sqrs.append(get_sqr(i%5,i//5,img))\n",
    "sqrs_colors = []\n",
    "\n",
    "for sqr in sqrs:\n",
    "    #get dominant color\n",
    "    if len(reader.readtext(np.array(sqr)))==0:\n",
    "        continue\n",
    "    r,g,b = np.array(sqr).mean(axis=(0,1))\n",
    "    if r-b>100:\n",
    "        sqrs_colors.append(\"R\")\n",
    "    elif b-r>100:\n",
    "        sqrs_colors.append(\"B\")\n",
    "    elif abs(r-b)<10:\n",
    "        sqrs_colors.append(\"F\")\n",
    "    else:\n",
    "        sqrs_colors.append(\"W\")\n"
   ]
  },
  {
   "cell_type": "code",
   "execution_count": 55,
   "id": "8547307d",
   "metadata": {},
   "outputs": [
    {
     "data": {
      "text/plain": [
       "(['HITCHHIKER', 'BLACKBERRY', 'MOLE'],\n",
       " ['CZECH',\n",
       "  'PISTOL',\n",
       "  'HARBOR',\n",
       "  'VIOLIN',\n",
       "  'CALF',\n",
       "  'HONEY',\n",
       "  'CIRCLE',\n",
       "  'ROCK',\n",
       "  'EGYPT',\n",
       "  'ANTARCTICA',\n",
       "  'GLASS',\n",
       "  'PASS',\n",
       "  'UNIFORM',\n",
       "  'AUSTRALIA',\n",
       "  'BOOM',\n",
       "  'HURRICANE'])"
      ]
     },
     "execution_count": 55,
     "metadata": {},
     "output_type": "execute_result"
    }
   ],
   "source": [
    "#get good word list\n",
    "good_words = []\n",
    "for i in range(len(board)):\n",
    "    if sqrs_colors[i]==team_color:\n",
    "        good_words.append(board[i])\n",
    "good_words\n",
    "\n",
    "#get bad word list\n",
    "bad_words = list(set(board)-set(good_words))\n",
    "good_words, bad_words"
   ]
  },
  {
   "cell_type": "markdown",
   "id": "a40992dc",
   "metadata": {},
   "source": [
    "#### get word embeddings for each word in board"
   ]
  },
  {
   "cell_type": "code",
   "execution_count": 56,
   "id": "828ed9a5",
   "metadata": {},
   "outputs": [],
   "source": [
    "#import Libraries\n",
    "from sentence_transformers import SentenceTransformer\n",
    "import numpy as np\n",
    "from unidecode import unidecode"
   ]
  },
  {
   "cell_type": "code",
   "execution_count": 57,
   "id": "8d44bd6e",
   "metadata": {},
   "outputs": [],
   "source": [
    "#test getting word embeddings\n",
    "model = SentenceTransformer(\"sentence-transformers/all-MiniLM-L6-v2\")"
   ]
  },
  {
   "cell_type": "code",
   "execution_count": 58,
   "id": "b4ef5985",
   "metadata": {},
   "outputs": [],
   "source": [
    "#helpful functions\n",
    "def norm(x):\n",
    "    x = x / (np.linalg.norm(x, axis=1, keepdims=True) + 1e-9)\n",
    "    return x\n",
    "def embed(words):\n",
    "    w = [unidecode(w.lower().replace(\"_\",\" \").strip()) for w in words]\n",
    "    v = model.encode(w, normalize_embeddings=True)\n",
    "    return w, v"
   ]
  },
  {
   "cell_type": "code",
   "execution_count": 59,
   "id": "66da109b",
   "metadata": {},
   "outputs": [],
   "source": [
    "#get top 50k words for our hint vocab\n",
    "i = 0\n",
    "vocab = set()\n",
    "with open(\"words_100k.txt\") as f:\n",
    "    for line in f:\n",
    "        if line.strip().isalpha():\n",
    "            vocab.add(line.strip().lower())\n",
    "        i+=1\n",
    "        if i>=70000:\n",
    "            break\n",
    "vocab = [unidecode(w.lower().replace(\"_\",\" \").strip()) for w in vocab]\n",
    "vocab = set(vocab)\n",
    "\n"
   ]
  },
  {
   "cell_type": "code",
   "execution_count": 60,
   "id": "c28d2ef3",
   "metadata": {},
   "outputs": [],
   "source": [
    "#save or load vocab embeddings\n",
    "import pickle\n",
    "\n",
    "def save_vocab_embeddings():\n",
    "    filename = \"vocab_embeddings.pkl\"\n",
    "    vocab_obj = embed(vocab)\n",
    "    with open(filename, 'wb') as file:\n",
    "        # Use pickle.dump() to write the list to the file\n",
    "        pickle.dump(vocab_obj, file)\n",
    "        \n",
    "def load_vocab_embeddings():\n",
    "    filename = \"vocab_embeddings.pkl\"\n",
    "    with open(filename, 'rb') as file:\n",
    "        # Use pickle.load() to read the list from the file\n",
    "        vocab_obj = pickle.load(file)\n",
    "    return vocab_obj\n"
   ]
  },
  {
   "cell_type": "code",
   "execution_count": 61,
   "id": "35846383",
   "metadata": {},
   "outputs": [],
   "source": [
    "#get board, good, bad and vocab word embeddings\n",
    "_,board_embeddings = embed(board)\n",
    "_,good_words_embeddings = embed(good_words)\n",
    "_,bad_words_embeddings = embed(bad_words)\n",
    "vocab,vocab_embeddings = load_vocab_embeddings()"
   ]
  },
  {
   "cell_type": "code",
   "execution_count": 62,
   "id": "755ca739",
   "metadata": {},
   "outputs": [
    {
     "name": "stdout",
     "output_type": "stream",
     "text": [
      "Removed:  18\n"
     ]
    }
   ],
   "source": [
    "#remove board words from vocab\n",
    "mask = ~np.isin(vocab,[i.lower() for i in board])\n",
    "print(\"Removed: \",len(vocab)-mask.sum())\n",
    "vocab = np.array(vocab)[mask].tolist()\n",
    "vocab_embeddings = vocab_embeddings[mask]"
   ]
  },
  {
   "cell_type": "code",
   "execution_count": 63,
   "id": "12fd7f83",
   "metadata": {},
   "outputs": [
    {
     "data": {
      "text/plain": [
       "array([[-1.70844086e-02,  3.28077041e-02, -9.96492710e-03,\n",
       "         3.29651982e-02, -2.60916855e-02, -6.25237823e-02,\n",
       "         1.66657060e-01,  6.16772659e-02,  7.17411423e-03,\n",
       "        -1.57453008e-02,  5.09533100e-02,  1.43058887e-02,\n",
       "        -2.79744691e-03,  1.20121939e-02, -6.20053634e-02,\n",
       "         1.15855401e-02,  4.23150733e-02, -1.74682364e-02,\n",
       "        -3.52504626e-02, -3.35720442e-02, -1.30977824e-01,\n",
       "         5.67573942e-02,  3.08938790e-02,  2.04335134e-02,\n",
       "        -6.61909804e-02,  3.98715250e-02,  9.20761004e-02,\n",
       "         5.30911274e-02, -9.23054516e-02, -1.17117770e-01,\n",
       "        -2.63161259e-03,  5.99673875e-02,  2.18393784e-02,\n",
       "         4.40487899e-02, -6.79206625e-02, -5.48422001e-02,\n",
       "        -6.29690960e-02,  5.61131462e-02,  1.05403522e-02,\n",
       "        -3.01615074e-02, -4.71010283e-02, -1.02344319e-01,\n",
       "         2.86004543e-02,  6.54741451e-02, -2.09768992e-02,\n",
       "        -6.41470030e-02, -1.92880370e-02,  3.68529111e-02,\n",
       "         5.87033480e-02,  1.33585380e-02,  5.78915142e-02,\n",
       "        -1.40565028e-02, -8.25173110e-02,  4.27225716e-02,\n",
       "        -1.63308848e-02,  1.54788513e-02, -9.01979115e-03,\n",
       "         7.63087571e-02,  5.18489778e-02,  5.47243319e-02,\n",
       "         3.48330848e-02, -2.29211408e-03, -7.58016780e-02,\n",
       "        -1.88045553e-03,  9.15317312e-02, -8.29563010e-03,\n",
       "         3.89246009e-02, -2.44565383e-02, -9.16217361e-03,\n",
       "         1.63627360e-02, -9.02697723e-03,  2.16627922e-02,\n",
       "        -2.18413547e-02,  2.88485922e-02, -2.18611509e-02,\n",
       "         3.25813852e-02,  8.60933065e-02,  4.08238918e-02,\n",
       "         7.77230412e-02,  3.25022526e-02, -9.73960981e-02,\n",
       "        -1.89438891e-02, -4.13268395e-02, -3.54369683e-03,\n",
       "        -4.68697622e-02,  2.28974409e-02, -1.93487927e-02,\n",
       "         8.50645006e-02, -8.10825154e-02, -2.13489663e-02,\n",
       "        -6.96763769e-02,  2.78806295e-02, -2.88797729e-02,\n",
       "         8.08726810e-03, -1.44827619e-01,  2.01612175e-03,\n",
       "        -3.06555070e-03, -8.23500380e-02, -1.00578375e-01,\n",
       "         2.60984063e-01,  4.84648161e-02,  6.90537915e-02,\n",
       "        -1.15990471e-02, -7.03817327e-03,  2.25457810e-02,\n",
       "        -3.38219926e-02,  7.67630897e-03, -3.31091695e-02,\n",
       "         2.63920575e-02,  3.98005657e-02, -1.14277294e-02,\n",
       "        -4.05095564e-03, -2.22274400e-02,  5.45579903e-02,\n",
       "         2.85993367e-02, -4.29909788e-02,  1.19897174e-02,\n",
       "         7.90670514e-02,  6.57035708e-02,  5.56464866e-02,\n",
       "         2.83842180e-02,  6.43556416e-02, -5.22131212e-02,\n",
       "         3.17518995e-03, -8.81541371e-02, -2.89426502e-02,\n",
       "         4.14070580e-03, -5.14327194e-33, -2.11621486e-02,\n",
       "        -3.77822202e-03,  7.91972578e-02,  2.13454291e-02,\n",
       "        -9.71335266e-03,  7.51979724e-02, -7.74534345e-02,\n",
       "         3.89228798e-02, -5.21376021e-02,  1.58185009e-02,\n",
       "        -4.76758778e-02, -1.14465714e-01, -6.89348578e-02,\n",
       "        -5.83366230e-02,  7.95556456e-02,  4.64951135e-02,\n",
       "        -7.56357387e-02,  5.61714359e-02, -3.70469969e-03,\n",
       "        -2.92006284e-02, -1.01181045e-01,  8.54316726e-02,\n",
       "        -2.01457441e-02, -5.71367983e-03, -3.51543203e-02,\n",
       "        -3.63531448e-02, -2.96743400e-02, -6.39434457e-02,\n",
       "         8.78364220e-02,  5.25560649e-03,  1.95994154e-02,\n",
       "         3.50762345e-02,  2.12868154e-02,  1.71616655e-02,\n",
       "        -3.04073468e-02, -5.29127754e-02, -1.84595659e-02,\n",
       "        -9.40222666e-02, -1.03610996e-02, -1.37043400e-02,\n",
       "        -1.85606927e-02,  3.31990495e-02,  7.75125064e-03,\n",
       "         2.36572493e-02,  3.63032586e-06, -3.32915713e-03,\n",
       "         7.60920346e-03,  1.04975588e-04, -6.58811489e-03,\n",
       "         3.03479861e-02, -1.89493410e-02, -5.83519824e-02,\n",
       "        -1.47012835e-02, -5.14939711e-05, -2.35135145e-02,\n",
       "        -2.39307471e-02,  5.10415696e-02,  1.63522474e-02,\n",
       "         1.70826949e-02,  8.46014731e-03,  5.74341556e-03,\n",
       "         1.11110911e-01,  6.42186496e-03, -3.51901306e-03,\n",
       "        -3.08363116e-04, -6.01928122e-02,  1.92204788e-02,\n",
       "         5.37625933e-03, -5.41373668e-03,  5.05340397e-02,\n",
       "        -5.58130033e-02,  3.80963879e-03,  1.23870455e-01,\n",
       "        -1.59202088e-02, -4.09605950e-02, -1.31586008e-02,\n",
       "         1.74742739e-03,  1.85030214e-02, -2.91542038e-02,\n",
       "        -5.88243129e-03, -5.85798249e-02, -2.40009674e-03,\n",
       "         7.16641024e-02, -3.57225724e-02, -4.46918160e-02,\n",
       "         5.92355579e-02, -1.04729041e-01, -1.45478830e-01,\n",
       "         4.75568064e-02,  9.33321640e-02, -9.02019441e-02,\n",
       "        -1.54617550e-02, -3.56562138e-02, -3.69844250e-02,\n",
       "        -3.33890482e-03,  3.22115354e-33, -9.55078304e-02,\n",
       "        -7.22172856e-02,  2.45000911e-03,  6.52355924e-02,\n",
       "         9.09278318e-02, -3.36215831e-03, -2.69999616e-02,\n",
       "        -4.15555499e-02, -6.80858046e-02, -6.21806681e-02,\n",
       "        -6.57094121e-02,  1.55601194e-02,  1.34621918e-01,\n",
       "        -4.19898741e-02,  1.13379531e-01,  9.23243165e-02,\n",
       "         8.46926570e-02, -1.84626654e-02,  1.48789864e-02,\n",
       "         1.26720928e-02, -9.56533626e-02, -2.71626543e-02,\n",
       "        -3.67650799e-02,  2.15718541e-02,  2.80741043e-02,\n",
       "        -1.43843666e-02,  4.86506596e-02,  3.45787928e-02,\n",
       "        -3.00786067e-02, -1.24907237e-03,  8.54634643e-02,\n",
       "        -2.46145837e-02,  2.96588372e-02,  3.59884538e-02,\n",
       "         9.53714177e-03,  5.70811778e-02,  6.66001886e-02,\n",
       "        -1.49131035e-02, -4.38709464e-03,  3.02432058e-03,\n",
       "         7.51499832e-02, -3.12437653e-03, -6.13197405e-03,\n",
       "         1.01910032e-01,  3.84850241e-02, -2.31482703e-02,\n",
       "         2.04680189e-02,  6.09689467e-02,  1.73532721e-02,\n",
       "         7.96907842e-02, -9.53230914e-03,  5.08734165e-03,\n",
       "        -6.15233444e-02, -5.53573482e-02, -1.65559612e-02,\n",
       "        -3.22520472e-02,  1.98214091e-02, -3.46497558e-02,\n",
       "         6.32460862e-02,  5.01354784e-03,  1.93165075e-02,\n",
       "        -2.83875130e-02, -5.71442768e-02,  1.71344429e-02,\n",
       "        -9.99006703e-02, -4.30595782e-03, -9.11823753e-03,\n",
       "         3.30893286e-02, -3.74983177e-02,  7.45373592e-03,\n",
       "         6.38447255e-02,  4.38212184e-03,  8.57198145e-04,\n",
       "        -1.19069712e-02,  2.89617525e-03,  6.09241724e-02,\n",
       "        -3.93476617e-03, -2.78645218e-03, -5.28046228e-02,\n",
       "        -8.77176672e-02, -5.48751839e-02,  5.41468486e-02,\n",
       "         5.99608384e-03,  6.98819980e-02,  7.43762553e-02,\n",
       "        -1.03849014e-02,  1.32799307e-02,  7.87140727e-02,\n",
       "        -4.79507912e-03, -3.64411063e-02,  1.06464745e-03,\n",
       "        -3.00853867e-02, -5.80126196e-02, -2.60542557e-02,\n",
       "        -3.08703613e-02, -1.76803479e-08,  3.85630392e-02,\n",
       "         5.43945422e-03, -4.33883741e-02, -6.29365966e-02,\n",
       "         6.49628714e-02,  4.03686687e-02,  2.50771418e-02,\n",
       "         1.45668471e-02,  4.30475958e-02,  7.34307319e-02,\n",
       "        -5.03785647e-02, -5.48915677e-02,  8.94404575e-03,\n",
       "         6.82081729e-02,  6.28640279e-02,  1.41653353e-02,\n",
       "         1.51895741e-02, -1.35953445e-02, -4.74149734e-02,\n",
       "         6.13573752e-02, -2.95915026e-02,  3.30640748e-02,\n",
       "         7.13649997e-03, -1.92167163e-02, -3.29202004e-02,\n",
       "        -3.50231491e-02, -1.63101368e-02,  5.12244999e-02,\n",
       "         5.27513437e-02,  2.85107307e-02,  4.33288775e-02,\n",
       "         4.83899899e-02, -6.49737194e-02, -5.94047755e-02,\n",
       "        -2.73509789e-02,  1.94601738e-03,  5.93775362e-02,\n",
       "         2.86221858e-02,  5.23735173e-02,  6.97103813e-02,\n",
       "        -1.51139712e-02,  2.89629679e-02, -1.46310059e-02,\n",
       "        -3.58742774e-02, -9.26527008e-02, -4.70012464e-02,\n",
       "         4.68260497e-02, -2.97179222e-02, -5.62883727e-03,\n",
       "        -1.10561308e-02, -3.60976532e-02,  9.83409211e-03,\n",
       "         2.73806155e-02,  2.07728092e-02,  8.64765272e-02,\n",
       "        -4.09634672e-02,  1.22128930e-02,  1.54328719e-02,\n",
       "        -2.89731994e-02, -1.79883000e-02,  6.49118647e-02,\n",
       "        -2.90712714e-02,  4.63285856e-02,  2.00182498e-02]], dtype=float32)"
      ]
     },
     "execution_count": 63,
     "metadata": {},
     "output_type": "execute_result"
    }
   ],
   "source": [
    "#find centroid of good words\n",
    "centroid = good_words_embeddings.mean(axis=0,keepdims=True)\n",
    "centroid = norm(centroid)\n",
    "centroid"
   ]
  },
  {
   "cell_type": "code",
   "execution_count": 64,
   "id": "28996b90",
   "metadata": {},
   "outputs": [
    {
     "data": {
      "text/plain": [
       "[('moles', 0.10924854874610901),\n",
       " ('molest', 0.09962919354438782),\n",
       " ('nanon', 0.08455446362495422),\n",
       " ('gwynplaine', 0.07764489203691483),\n",
       " ('mutations', 0.0760386511683464),\n",
       " ('hedgehog', 0.07237169146537781),\n",
       " ('kindles', 0.06526632606983185),\n",
       " ('gnomes', 0.06229487061500549),\n",
       " ('carcases', 0.059284478425979614),\n",
       " ('shopman', 0.058759160339832306),\n",
       " ('anker', 0.05683840438723564),\n",
       " ('molemmat', 0.054599568247795105),\n",
       " ('pawnbroker', 0.052610598504543304),\n",
       " ('immobiles', 0.04941490292549133),\n",
       " ('celerity', 0.04798945412039757),\n",
       " ('roderigo', 0.04651390388607979),\n",
       " ('mice', 0.04568588361144066),\n",
       " ('splendors', 0.045368097722530365),\n",
       " ('townsman', 0.04472794756293297),\n",
       " ('haphazard', 0.04378090053796768),\n",
       " ('immobile', 0.04269792139530182),\n",
       " ('hogsheads', 0.04248522222042084),\n",
       " ('supercargo', 0.0419965460896492),\n",
       " ('incorporeal', 0.04158192500472069),\n",
       " ('miteinander', 0.041553810238838196),\n",
       " ('maailman', 0.04128439724445343),\n",
       " ('eitelkeit', 0.04120418801903725),\n",
       " ('grossvater', 0.04041906073689461),\n",
       " ('hubbub', 0.040369048714637756),\n",
       " ('magnanimous', 0.040050506591796875),\n",
       " ('blackberries', 0.039691515266895294),\n",
       " ('celery', 0.0390113964676857),\n",
       " ('vertigo', 0.03847944736480713),\n",
       " ('traduit', 0.03822121024131775),\n",
       " ('baroness', 0.03791079670190811),\n",
       " ('roden', 0.03620150685310364),\n",
       " ('fraeulein', 0.03619750961661339),\n",
       " ('spinoza', 0.036095030605793),\n",
       " ('mutation', 0.035682473331689835),\n",
       " ('nemours', 0.03531290590763092),\n",
       " ('herculean', 0.03467677906155586),\n",
       " ('gwynne', 0.034352339804172516),\n",
       " ('leighton', 0.03424103558063507),\n",
       " ('carcase', 0.034143317490816116),\n",
       " ('benignity', 0.03384919464588165),\n",
       " ('hogshead', 0.03376951068639755),\n",
       " ('canker', 0.033349573612213135),\n",
       " ('splendor', 0.03320016711950302),\n",
       " ('cobbler', 0.0329761728644371),\n",
       " ('margrave', 0.03295869752764702)]"
      ]
     },
     "execution_count": 64,
     "metadata": {},
     "output_type": "execute_result"
    }
   ],
   "source": [
    "#Scoring similarity\n",
    " \n",
    "sim_good = vocab_embeddings @ good_words_embeddings.T                   # [V, |G|]\n",
    "sim_bad_max = vocab_embeddings @ bad_words_embeddings.T.max(axis=1)     # [V]\n",
    "sim_bad_mean = vocab_embeddings @ bad_words_embeddings.T.mean(axis=1)   # [V]\n",
    "\n",
    "lambda1, lambda2 = 1.0, 0.25\n",
    "score = sim_good.mean(axis=1) - lambda1*sim_bad_max - lambda2*sim_bad_mean\n",
    "\n",
    "idx = np.argsort(-score)[:50]\n",
    "candidates = [(vocab[i], float(score[i])) for i in idx]\n",
    "candidates\n",
    "\n"
   ]
  },
  {
   "cell_type": "code",
   "execution_count": 65,
   "id": "1888c485",
   "metadata": {},
   "outputs": [],
   "source": [
    "def score_choices_order(choices,good_words=good_words):\n",
    "    k = 0\n",
    "    for c,_ in choices:\n",
    "        if c in good_words:\n",
    "            k+=1\n",
    "        else:\n",
    "            break\n",
    "    return k\n",
    "def get_choices_from_hint(hint,k=25):\n",
    "    hint_embedding = model.encode(hint, normalize_embeddings=True).reshape(1,-1)\n",
    "    sims = (board_embeddings @ hint_embedding.T).ravel()\n",
    "    return [(board[i], float(sims[i])) for i in np.argsort(-sims)][:k]\n",
    "def score_candidates(candidates=candidates):\n",
    "    k_arr = []\n",
    "    for w,_ in candidates:\n",
    "        k_arr.append(score_choices_order(get_choices_from_hint(w)))\n",
    "    return k_arr\n",
    "\n"
   ]
  },
  {
   "cell_type": "code",
   "execution_count": 66,
   "id": "b737bd69",
   "metadata": {},
   "outputs": [
    {
     "data": {
      "text/plain": [
       "('mutations', 2)"
      ]
     },
     "execution_count": 66,
     "metadata": {},
     "output_type": "execute_result"
    }
   ],
   "source": [
    "#pick best candidate\n",
    "def pick_best_candidate():\n",
    "    candidate_scores = score_candidates()\n",
    "    np.argmax(candidate_scores)\n",
    "    candidates[np.argmax(score_candidates())][0]\n",
    "    return candidates[np.argmax(score_candidates())][0],max(candidate_scores)\n",
    "# pick_best_candidate()\n",
    "pick_best_candidate()"
   ]
  },
  {
   "cell_type": "code",
   "execution_count": null,
   "id": "3ff8bbe4",
   "metadata": {},
   "outputs": [
    {
     "data": {
      "text/plain": [
       "[('MOLE', 0.27580273151397705),\n",
       " ('HITCHHIKER', 0.17183254659175873),\n",
       " ('PISTOL', 0.15680620074272156),\n",
       " ('BLACKBERRY', 0.15599700808525085),\n",
       " ('GLASS', 0.14699983596801758),\n",
       " ('CIRCLE', 0.14400619268417358),\n",
       " ('BOOM', 0.13913880288600922),\n",
       " ('ROCK', 0.125931978225708),\n",
       " ('CALF', 0.11227866262197495),\n",
       " ('HURRICANE', 0.10929937660694122),\n",
       " ('PASS', 0.10829814523458481),\n",
       " ('ANTARCTICA', 0.09119860082864761),\n",
       " ('UNIFORM', 0.08480668067932129),\n",
       " ('EGYPT', 0.07337921857833862),\n",
       " ('CZECH', 0.06541817635297775),\n",
       " ('HONEY', 0.05778663977980614),\n",
       " ('HARBOR', 0.051817089319229126),\n",
       " ('AUSTRALIA', 0.04731404408812523),\n",
       " ('VIOLIN', 0.015002928674221039)]"
      ]
     },
     "execution_count": 68,
     "metadata": {},
     "output_type": "execute_result"
    }
   ],
   "source": [
    "#get choices from hint\n",
    "h,k = pick_best_candidate()\n",
    "get_choices_from_hint(h,2)\n",
    "\n"
   ]
  }
 ],
 "metadata": {
  "kernelspec": {
   "display_name": ".venv",
   "language": "python",
   "name": "python3"
  },
  "language_info": {
   "codemirror_mode": {
    "name": "ipython",
    "version": 3
   },
   "file_extension": ".py",
   "mimetype": "text/x-python",
   "name": "python",
   "nbconvert_exporter": "python",
   "pygments_lexer": "ipython3",
   "version": "3.12.0"
  }
 },
 "nbformat": 4,
 "nbformat_minor": 5
}
